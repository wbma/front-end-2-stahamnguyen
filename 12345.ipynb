{
 "cells": [
  {
   "cell_type": "markdown",
   "metadata": {},
   "source": [
    "<html>\n",
    "<body>\n",
    "<font color=\"red\", size=\"5\"><center><h1>WHY I HAVE A LOT OF NAMES</h1></center></font>\n",
    "<br><br>\n",
    "<p1>Hi dudes,\n",
    "My name is <b>Nguyen Binh Nguyen</b>, people usually called me Nguyen in Vietnamese. I have a pretty interesting name for non-Vietnamese people as they may get confused what is my first name, or what is different between my first and last names.</p1>\n",
    "<br><br>\n",
    "<p2> That's why when I moved to Finland, at the very beginning days, I chose for myself an English name. At that moment, I really admire <b>Jason Statham</b> since he was so muscular and manly. However, I want to make a small difference that make myself not the same to him, so I changed my name into <b>Staham</b>. That name was so cool, so distinctive, but the problem was that it was hard for people to call it correctly. I wanted to be called \"stæhæm\" but instead, people usually called me \"stehem\", which was a bit funny to me.</p2>\n",
    "<br><br>\n",
    "<p3> Therefore, at the time I had a chance to restart in a new environment, I, once again, altered my name into <b><strong><i>Adam</i></strong></b>, which is more typical and easy to be pronouced.</p3>\n",
    "<br><br>\n",
    "<p4> Actually, I think a name is really important to you in the way that it makes people easily communicate to you. Some people tell me that why don't I keep my name original, and who want to get to know me will attempt to get used to pronounce it correctly. In my opinion, a name is just a way for people to recognise me, and several names scientifically seem to be more successful than the others, that why I changed my name into different ones.\n",
    "</body>\n",
    "</html>"
   ]
  },
  {
   "cell_type": "code",
   "execution_count": null,
   "metadata": {
    "collapsed": true
   },
   "outputs": [],
   "source": []
  },
  {
   "cell_type": "raw",
   "metadata": {},
   "source": []
  }
 ],
 "metadata": {
  "anaconda-cloud": {},
  "kernelspec": {
   "display_name": "Python [Root]",
   "language": "python",
   "name": "Python [Root]"
  },
  "language_info": {
   "codemirror_mode": {
    "name": "ipython",
    "version": 3
   },
   "file_extension": ".py",
   "mimetype": "text/x-python",
   "name": "python",
   "nbconvert_exporter": "python",
   "pygments_lexer": "ipython3",
   "version": "3.5.2"
  }
 },
 "nbformat": 4,
 "nbformat_minor": 0
}
